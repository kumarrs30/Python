{
  "nbformat": 4,
  "nbformat_minor": 0,
  "metadata": {
    "colab": {
      "name": "Untitled1.ipynb",
      "provenance": [],
      "private_outputs": true,
      "collapsed_sections": [],
      "authorship_tag": "ABX9TyMA8Ksw3UKOegJvfqSCHwVi",
      "include_colab_link": true
    },
    "kernelspec": {
      "name": "python3",
      "display_name": "Python 3"
    }
  },
  "cells": [
    {
      "cell_type": "markdown",
      "metadata": {
        "id": "view-in-github",
        "colab_type": "text"
      },
      "source": [
        "<a href=\"https://colab.research.google.com/github/kumarrs30/Python/blob/master/Untitled1.ipynb\" target=\"_parent\"><img src=\"https://colab.research.google.com/assets/colab-badge.svg\" alt=\"Open In Colab\"/></a>"
      ]
    },
    {
      "cell_type": "code",
      "metadata": {
        "id": "egOcUatk3e3W",
        "colab_type": "code",
        "colab": {}
      },
      "source": [
        "import numpy as np\n",
        "import pandas as pd\n",
        "import seaborn as sns\n",
        "import matplotlib.pyplot as plt\n",
        "import requests,io"
      ],
      "execution_count": 0,
      "outputs": []
    },
    {
      "cell_type": "code",
      "metadata": {
        "id": "hxkIg0v239OX",
        "colab_type": "code",
        "colab": {}
      },
      "source": [
        "response =requests.get ('https://stack-overflow-casestudy-datasets.s3.amazonaws.com/Questions.csv')\n",
        "file_object = io.StringIO(response.content.decode('latin-1'))\n",
        "ADQ =pd.read_csv(file_object)"
      ],
      "execution_count": 0,
      "outputs": []
    },
    {
      "cell_type": "code",
      "metadata": {
        "id": "bOhnpeDa5OVE",
        "colab_type": "code",
        "colab": {}
      },
      "source": [
        "response =requests.get ('https://stack-overflow-casestudy-datasets.s3.amazonaws.com/Answers.csv')\n",
        "file_object = io.StringIO(response.content.decode('latin-1'))\n",
        "ADA =pd.read_csv(file_object)"
      ],
      "execution_count": 0,
      "outputs": []
    },
    {
      "cell_type": "code",
      "metadata": {
        "id": "5iX3MCbE6Vm9",
        "colab_type": "code",
        "colab": {}
      },
      "source": [
        "response =requests.get ('https://stack-overflow-casestudy-datasets.s3.amazonaws.com/Tags.csv')\n",
        "file_object = io.StringIO(response.content.decode('latin-1'))\n",
        "ADT =pd.read_csv(file_object)\n"
      ],
      "execution_count": 0,
      "outputs": []
    },
    {
      "cell_type": "code",
      "metadata": {
        "id": "awZ7C4av6ix1",
        "colab_type": "code",
        "colab": {}
      },
      "source": [
        "response =requests.get ('https://stack-overflow-casestudy-datasets.s3.amazonaws.com/Users.csv')\n",
        "file_object = io.StringIO(response.content.decode('latin-1'))\n",
        "ADU =pd.read_csv(file_object)"
      ],
      "execution_count": 0,
      "outputs": []
    },
    {
      "cell_type": "markdown",
      "metadata": {
        "id": "GaanFciE_j4x",
        "colab_type": "text"
      },
      "source": [
        " \n",
        "****Data cleaning and manipulation  ** **"
      ]
    },
    {
      "cell_type": "markdown",
      "metadata": {
        "id": "2COO3LBjs07O",
        "colab_type": "text"
      },
      "source": [
        ""
      ]
    },
    {
      "cell_type": "code",
      "metadata": {
        "id": "qaw7qBee_iAP",
        "colab_type": "code",
        "colab": {}
      },
      "source": [
        "ADQ.drop([\"Body\"],axis=1,inplace=True)\n",
        "ADQ.head()"
      ],
      "execution_count": 0,
      "outputs": []
    },
    {
      "cell_type": "code",
      "metadata": {
        "id": "WR7eixgiHRcS",
        "colab_type": "code",
        "colab": {}
      },
      "source": [
        "ADQA = pd.merge(ADQ,ADA,how='right',left_on='Id',right_on='ParentId')\n",
        "ADQA.head()"
      ],
      "execution_count": 0,
      "outputs": []
    },
    {
      "cell_type": "code",
      "metadata": {
        "id": "qOZSSuAdH6mH",
        "colab_type": "code",
        "colab": {}
      },
      "source": [
        "ADQA.info()"
      ],
      "execution_count": 0,
      "outputs": []
    },
    {
      "cell_type": "code",
      "metadata": {
        "id": "uqcs57lMInpx",
        "colab_type": "code",
        "colab": {}
      },
      "source": [
        "ADQA = ADQA.dropna(subset =['OwnerUserId_x','OwnerUserId_y'])\n",
        "ADQA[['Id_x','Id_y','OwnerUserID_x','OwnerUserID_y','ParentId']] = ADQA[['Id_x','Id_y','OwnerUserId_x','OwnerUserId_y','ParentId']].astype('int64')\n",
        "ADQA.head()"
      ],
      "execution_count": 0,
      "outputs": []
    },
    {
      "cell_type": "code",
      "metadata": {
        "id": "MS32xsgLMfuA",
        "colab_type": "code",
        "colab": {}
      },
      "source": [
        "ADT['Id']=ADT.round(0).astype(str)\n",
        "ADT['Tag']=ADT['Tag'].astype(str)\n",
        "ADT_tags_Gop =ADT.groupby(['Id'])['Tag'].apply(','.join).reset_index()"
      ],
      "execution_count": 0,
      "outputs": []
    },
    {
      "cell_type": "code",
      "metadata": {
        "id": "jYVEJ-1FPPhL",
        "colab_type": "code",
        "colab": {}
      },
      "source": [
        "ADQAT =pd.merge (ADQA,ADT_tags_Gop,how='inner',left_on='Id_x',right_on='Id')"
      ],
      "execution_count": 0,
      "outputs": []
    },
    {
      "cell_type": "code",
      "metadata": {
        "id": "h6U4goqYPqeh",
        "colab_type": "code",
        "colab": {}
      },
      "source": [
        "ADU =ADU.drop(columns = ['Unnamed: 0','display_name','creation_date','last_access_date'])\n",
        "ADU['id']=ADU['id'].astype(str)\n",
        "ADU = ADU.drop_duplicates()\n",
        "ADU.head()"
      ],
      "execution_count": 0,
      "outputs": []
    },
    {
      "cell_type": "code",
      "metadata": {
        "id": "aVf-anllRaJ7",
        "colab_type": "code",
        "colab": {}
      },
      "source": [
        "ADQATU = pd.merge(ADQAT,ADU,how='left',left_on='OwnerUserId_y',right_on='id')\n",
        "ADQATU.head()"
      ],
      "execution_count": 0,
      "outputs": []
    }
  ]
}